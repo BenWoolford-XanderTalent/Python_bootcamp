{
 "cells": [
  {
   "cell_type": "code",
   "execution_count": null,
   "metadata": {},
   "outputs": [],
   "source": [
    "import requests;\n",
    "import os;\n",
    "import pandas as pd;\n",
    "\n",
    "from os.path import exists;\n",
    "\n",
    "lincolnfile=\"Lincoln National Life Holdings.xlsx\";\n",
    "print(os.getcwd());\n",
    "if (exists(lincolnfile)==False):\n",
    "    print(\"Cannot find file\");\n",
    "lincoln_data_xls = pd.read_excel(lincolnfile, sheet_name=None)\n",
    "#entire excel file rather than one sheet \n",
    "\n"
   ]
  },
  {
   "cell_type": "code",
   "execution_count": null,
   "metadata": {},
   "outputs": [],
   "source": [
    "sheets=[];\n",
    "sheetscount=0; \n",
    "\n",
    "for name, sheet in lincoln_data_xls.items():\n",
    "    sheets.append(pd.read_excel(lincolnfile, sheet_name=name, skiprows=6));\n",
    "    sheetscount+=1;\n"
   ]
  },
  {
   "cell_type": "code",
   "execution_count": null,
   "metadata": {},
   "outputs": [],
   "source": [
    "sheets"
   ]
  }
 ],
 "metadata": {
  "interpreter": {
   "hash": "0eb83482ca19ab31060de1960be5c87b18c9e9d7076d0c02a4c044a122097adb"
  },
  "kernelspec": {
   "display_name": "Python 3.10.4 64-bit",
   "language": "python",
   "name": "python3"
  },
  "language_info": {
   "codemirror_mode": {
    "name": "ipython",
    "version": 3
   },
   "file_extension": ".py",
   "mimetype": "text/x-python",
   "name": "python",
   "nbconvert_exporter": "python",
   "pygments_lexer": "ipython3",
   "version": "3.10.4"
  },
  "orig_nbformat": 4
 },
 "nbformat": 4,
 "nbformat_minor": 2
}
