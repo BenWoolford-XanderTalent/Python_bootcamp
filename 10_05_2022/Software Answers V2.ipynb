{
 "cells": [
  {
   "cell_type": "markdown",
   "id": "2a2e44e2",
   "metadata": {},
   "source": [
    "# Q1"
   ]
  },
  {
   "cell_type": "raw",
   "id": "c906d4ec",
   "metadata": {},
   "source": [
    "CREATE TABLE menuItems \n",
    "(\n",
    "  id INTEGER NOT NULL,\n",
    "  title VARCHAR(30) NOT NULL,\n",
    "  url VARCHAR(100) NOT NULL UNIQUE,\n",
    "  PRIMARY KEY (id)\n",
    ");"
   ]
  },
  {
   "cell_type": "markdown",
   "id": "0afd8b6b",
   "metadata": {},
   "source": [
    "# Q2"
   ]
  },
  {
   "cell_type": "raw",
   "id": "02186108",
   "metadata": {},
   "source": [
    "SELECT name FROM authors\n",
    "WHERE\n",
    "name LIKE 'N%'\n",
    "AND\n",
    "(books>30 OR age<30);"
   ]
  },
  {
   "cell_type": "markdown",
   "id": "2cb7ce41",
   "metadata": {},
   "source": [
    "# Q3"
   ]
  },
  {
   "cell_type": "markdown",
   "id": "cca41526",
   "metadata": {},
   "source": [
    "Pajama Pants & Slim Fit T-Shirt\n",
    "\n",
    "Pajama Pants & null"
   ]
  },
  {
   "cell_type": "markdown",
   "id": "02220358",
   "metadata": {},
   "source": [
    "# Q4"
   ]
  },
  {
   "cell_type": "markdown",
   "id": "d1de4ebb",
   "metadata": {},
   "source": [
    "4\n",
    "\n",
    "5\n",
    "\n",
    "3"
   ]
  },
  {
   "cell_type": "markdown",
   "id": "4aff4575",
   "metadata": {},
   "source": [
    "# Q5"
   ]
  },
  {
   "cell_type": "code",
   "execution_count": 1,
   "id": "ca860b94",
   "metadata": {},
   "outputs": [
    {
     "name": "stdout",
     "output_type": "stream",
     "text": [
      "True\n"
     ]
    }
   ],
   "source": [
    "class PalindromeClass:\n",
    "\n",
    "    def palindrome(word):\n",
    "      word = word.lower()\n",
    "      answer = (lambda x: x==x[::-1])(word)\n",
    "      return answer\n",
    "\n",
    "print(PalindromeClass.palindrome(\"madam\"))"
   ]
  },
  {
   "cell_type": "markdown",
   "id": "b6058786",
   "metadata": {},
   "source": [
    "# Q6"
   ]
  },
  {
   "cell_type": "markdown",
   "id": "4ec1a273",
   "metadata": {},
   "source": [
    "text_actions has two items in the stack after running the snippet.\n",
    "\n",
    "\n",
    "Calling text_actions.undo_action() just after the snippet will return \"Add an empty page\".\n",
    "\n",
    "\n",
    "Calling text_actions.undo_action() three more times just after the snippet will throw an Exception."
   ]
  }
 ],
 "metadata": {
  "kernelspec": {
   "display_name": "Python 3 (ipykernel)",
   "language": "python",
   "name": "python3"
  },
  "language_info": {
   "codemirror_mode": {
    "name": "ipython",
    "version": 3
   },
   "file_extension": ".py",
   "mimetype": "text/x-python",
   "name": "python",
   "nbconvert_exporter": "python",
   "pygments_lexer": "ipython3",
   "version": "3.9.7"
  }
 },
 "nbformat": 4,
 "nbformat_minor": 5
}
