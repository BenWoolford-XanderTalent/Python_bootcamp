{
 "cells": [
  {
   "cell_type": "markdown",
   "metadata": {},
   "source": [
    "### Beginign\n",
    "\n"
   ]
  },
  {
   "cell_type": "code",
   "execution_count": null,
   "metadata": {},
   "outputs": [],
   "source": [
    "import requests;\n",
    "import os;\n",
    "import pandas as pd;\n",
    "import mysql.connector as msqlcon;\n",
    "\n",
    "\n",
    "from os.path import exists;\n",
    "from mysql.connector.cursor import MySQLCursor;\n",
    "paid_data=\"pp-complete.csv\";\n",
    "\n",
    "\n",
    "print(os.getcwd());\n",
    "\n"
   ]
  },
  {
   "cell_type": "markdown",
   "metadata": {},
   "source": [
    "### hari's provided code\n",
    "\n",
    "sql = \"SELECT * FROM properties_by_district WHERE district_id = %s AND property_type = %s\""
   ]
  },
  {
   "cell_type": "code",
   "execution_count": null,
   "metadata": {},
   "outputs": [],
   "source": []
  }
 ],
 "metadata": {
  "language_info": {
   "name": "python"
  },
  "orig_nbformat": 4
 },
 "nbformat": 4,
 "nbformat_minor": 2
}
