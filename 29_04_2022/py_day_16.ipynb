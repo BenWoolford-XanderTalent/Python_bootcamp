{
 "cells": [
  {
   "cell_type": "markdown",
   "metadata": {},
   "source": [
    "useful links:\n",
    "\n",
    "https://pynative.com/python-mysql-database-connection/#h-create-mysql-table-from-python \n"
   ]
  },
  {
   "cell_type": "code",
   "execution_count": null,
   "metadata": {},
   "outputs": [],
   "source": [
    "import requests;\n",
    "import os;\n",
    "import pandas as pd;\n",
    "import mysql.connector as msqlcon;\n",
    "\n",
    "\n",
    "from os.path import exists;\n",
    "from mysql.connector.cursor import MySQLCursor;\n",
    "paid_data=\"pp-complete.csv\";\n",
    "\n",
    "\n",
    "print(os.getcwd());\n",
    "mydb = msqlcon.MySQLConnection(msqlcon.connect(host='lin-2255-2344-mysql-primary.servers.linodedb.net',\n",
    " user='linroot',\n",
    "  password='k-Qxnbj74ctQo8Pd',\n",
    "  database=\"test_db_2\",\n",
    "   ));\n",
    "mydb\n",
    "\n",
    "sqlquery=\"insert sql code query here and pass to execute\";\n",
    "\n",
    "cursor=MySQLCursor(mydb.cursor());\n",
    "\n",
    "cursor.execute(sqlquery);\n",
    "\n"
   ]
  },
  {
   "cell_type": "markdown",
   "metadata": {},
   "source": [
    "### code example\n",
    "\n",
    "data_sold_price[[\"paon\",\"saon\", \"street\", \"locality\", \"district\", \"county\", \"postcode_raw\"]] = data_sold_price[[\"paon\",\"saon\", \"street\", \"locality\", \"district\", \"county\", \"postcode_raw\"]].fillna('').astype(str)\n",
    "\n",
    " data_sold_price['first_line_address'] = data_sold_price[[\"saon\", \"paon\"]].apply(lambda x: ' '.join(filter(None, x)), axis=1)\n",
    "data_sold_price['second_line_address'] = data_sold_price[[\"street\", \"locality\", \"district\", \"county\", \"postcode_raw\"]].apply(lambda x: ', '.join(filter(None, x)), axis=1)\n",
    "\n",
    " data_sold_price[\"complete_address\"] = data_sold_price[[\"first_line_address\", \"second_line_address\"]].apply(lambda x: ', '.join(filter(None, x)), axis=1)"
   ]
  },
  {
   "cell_type": "markdown",
   "metadata": {},
   "source": [
    "### Hari's server login\n",
    "\n",
    "host = lin-2255-2344-mysql-primary.servers.linodedb.net\n",
    "username = linroot\n",
    "password = k-Qxnbj74ctQo8Pd"
   ]
  },
  {
   "cell_type": "code",
   "execution_count": null,
   "metadata": {},
   "outputs": [],
   "source": [
    "if (exists(paid_data)==False):\n",
    "    print(\"Downloading...\");\n",
    "\n",
    "    \"\"\"\n",
    "        http://prod.publicdata.landregistry.gov.uk.s3-website-eu-west-1.amazonaws.com/pp-complete.csv\n",
    "    \"\"\"\n",
    "    url = \"http://prod.publicdata.landregistry.gov.uk.s3-website-eu-west-1.amazonaws.com/pp-2021-part1.csv\";\n",
    "\n",
    "    r = requests.get(url, allow_redirects=True);\n",
    "\n",
    "    open(paid_data, 'wb').write(r.content);\n",
    "\n",
    "    print(\"Done\");\n",
    "else:\n",
    "    print(\"File already downloaded\");\n",
    "lincoln_data_xls = pd.read_csv(paid_data, sheet_name=None);"
   ]
  }
 ],
 "metadata": {
  "interpreter": {
   "hash": "0eb83482ca19ab31060de1960be5c87b18c9e9d7076d0c02a4c044a122097adb"
  },
  "kernelspec": {
   "display_name": "Python 3.10.4 64-bit",
   "language": "python",
   "name": "python3"
  },
  "language_info": {
   "codemirror_mode": {
    "name": "ipython",
    "version": 3
   },
   "file_extension": ".py",
   "mimetype": "text/x-python",
   "name": "python",
   "nbconvert_exporter": "python",
   "pygments_lexer": "ipython3",
   "version": "3.10.4"
  },
  "orig_nbformat": 4
 },
 "nbformat": 4,
 "nbformat_minor": 2
}
